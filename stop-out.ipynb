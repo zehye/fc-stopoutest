{
 "cells": [
  {
   "cell_type": "code",
   "execution_count": 1,
   "metadata": {},
   "outputs": [],
   "source": [
    "# 1번\n",
    "girlsday_members = ['민아', '혜리', '유라', '소진']"
   ]
  },
  {
   "cell_type": "code",
   "execution_count": 2,
   "metadata": {},
   "outputs": [
    {
     "name": "stdout",
     "output_type": "stream",
     "text": [
      "- 민아\n",
      "- 혜리\n",
      "- 유라\n",
      "- 소진\n",
      "\n"
     ]
    }
   ],
   "source": [
    "girlsday_info = ''\n",
    "for i in girlsday_members:   \n",
    "    girlsday_info += f'- {i}\\n'\n",
    "\n",
    "print(girlsday_info)"
   ]
  },
  {
   "cell_type": "code",
   "execution_count": 3,
   "metadata": {},
   "outputs": [],
   "source": [
    "# 2번\n",
    "fruit_dict = {\n",
    "    'red' : 'apple',\n",
    "    'yellow' : 'banana',\n",
    "    'green' : 'melon',\n",
    "}"
   ]
  },
  {
   "cell_type": "code",
   "execution_count": 4,
   "metadata": {},
   "outputs": [
    {
     "name": "stdout",
     "output_type": "stream",
     "text": [
      "[0] RED: apple\n",
      "[1] YELLOW: banana\n",
      "[2] GREEN: melon\n",
      "\n"
     ]
    }
   ],
   "source": [
    "fruit_info = ''\n",
    "for index, (color, fruit) in enumerate(fruit_dict.items()):\n",
    "    fruit_info += f'[{index}] {color.upper()}: {fruit}\\n'\n",
    "\n",
    "print(fruit_info)"
   ]
  },
  {
   "cell_type": "code",
   "execution_count": 5,
   "metadata": {},
   "outputs": [],
   "source": [
    "# 3번\n",
    "# a=b가 먼저 나온 뒤 a=[1,2,3]을 넣으면 b=[1,2,3]이 나온다.\n",
    "# 이때 a.copy(b)를 한 뒤 a.append(4)를 하면 a=[1,2,3,4], b=[1,2,3]\n",
    "\n",
    "# copy를 하는 상태에서는 a와 b가 같은 메모리를 가리키지만, \n",
    "# a에 변화가 생기면 a와 b는 같은 메모리가 아닌 다른 메모리를 가리킨다."
   ]
  },
  {
   "cell_type": "code",
   "execution_count": 6,
   "metadata": {},
   "outputs": [
    {
     "name": "stdout",
     "output_type": "stream",
     "text": [
      "[3, 7, 11, 15, 19, 23, 27]\n"
     ]
    }
   ],
   "source": [
    "#4번\n",
    "list1= []\n",
    "for i in range(1,31):\n",
    "    list1.append(i)\n",
    "print(list1[2:31:4])"
   ]
  },
  {
   "cell_type": "code",
   "execution_count": 7,
   "metadata": {},
   "outputs": [],
   "source": [
    "#5번\n",
    "# 'obj['key']'와 'obj.get('key')'의 결과값은 동일하게 가져오지만, 'obj['key']'의 경우에는# 'obj[ \n",
    "# 존재하지 않는 키 값을 가져오려할 경우에 오류를 발생시키지만 'obj.get('key')'의 경우에는 None을 리턴한다."
   ]
  },
  {
   "cell_type": "code",
   "execution_count": 1,
   "metadata": {},
   "outputs": [],
   "source": [
    "#6번\n",
    "# unpacking은 패킹된 변수에서 여러개의 값을 가져오는 것을 의미한다."
   ]
  },
  {
   "cell_type": "code",
   "execution_count": 2,
   "metadata": {},
   "outputs": [],
   "source": [
    "pokemon_info = [\n",
    "    ('피카츄', '전기타입'),\n",
    "    ('파이리', '불 타입'),\n",
    "    ('꼬부기', '물 타입'),\n",
    "    ('이상해씨', '풀 타입'),\n",
    "]"
   ]
  },
  {
   "cell_type": "code",
   "execution_count": 3,
   "metadata": {},
   "outputs": [
    {
     "name": "stdout",
     "output_type": "stream",
     "text": [
      "('피카츄', '전기타입') ('파이리', '불 타입') ('꼬부기', '물 타입') ('이상해씨', '풀 타입')\n"
     ]
    }
   ],
   "source": [
    "a, b, c, d = pokemon_info\n",
    "print(a, b, c, d)"
   ]
  },
  {
   "cell_type": "code",
   "execution_count": 9,
   "metadata": {},
   "outputs": [
    {
     "data": {
      "text/plain": [
       "{'name': 'jihye', 'age': 25, 'gender': 'female'}"
      ]
     },
     "execution_count": 9,
     "metadata": {},
     "output_type": "execute_result"
    }
   ],
   "source": [
    "#7번\n",
    "# 위치인자는 매개변수의 순서대로 이자를 전달하여 사용하는 것\n",
    "def student(name, age, gender):\n",
    "    return {'name': name, 'age': age, 'gender': gender}\n",
    "student('jihye', 25, 'female')\n",
    "\n",
    "# 키워드 인자는 매개변수의 이름을 지정하여 인자로 전달해 사용하는 것\n",
    "student(age=25, name='jihye', gender='female')"
   ]
  },
  {
   "cell_type": "code",
   "execution_count": 10,
   "metadata": {},
   "outputs": [],
   "source": [
    "#8번\n",
    "# 클래스는 하나의 틀, 똑같은 무언가를 계속해서 만들어 낼 수 있는 도면이라면, \n",
    "# 인스턴스는 클래스를 통해 만들어진 피조물을 의미한다. 그래서 특정 클래스의 형태를 가진 인스턴스라고 표현한다.\n",
    "\n",
    "# 클래스의 생성자 함수 이름: init 초기화메서드\n",
    "\n",
    "# 클래스가 정의되었는 지 착고, 클래스형 객체를 메로리에 생성한 뒤, 초기화 메서드를 호출한다.\n",
    "\n",
    "# self는 클래스의 메서드를 사용할 때 어떤 객체가 해당 메서드를 사용하고 있는 지 알 수 있도록 하기 위해 존재한다."
   ]
  },
  {
   "cell_type": "code",
   "execution_count": 11,
   "metadata": {},
   "outputs": [],
   "source": [
    "# 9번\n",
    "# 어떤 언어들은 외부에서 접근할 수 없는 private객체 속성을 지원하는데 이 경우 객체에서 해당 속성을 읽고 쓰기 위해# 어떤 언어 \n",
    "# getter, setter를 사용한다. 파이썬에서는 해당 기능을 property를 사용해 간단히 구현한다.\n",
    "\n",
    "@property\n",
    "def shop_type(self):\n",
    "    # shop_type은 최대한으로 외부에서 조작할 수 없도록 한다. \n",
    "    return self.__shop_type\n",
    "\n",
    "@shop_type.setter\n",
    "# setter 프로퍼티를 명시하지 않으면, 읽기 전용이 되어 외부에서 조작을 할 수 없게 한다.\n",
    "def shop_type(self, new_shop_type):\n",
    "    self.__shop_type = new_shop_type\n",
    "    print(f'새 상점유형 ({self._shop_type}) 적용')"
   ]
  },
  {
   "cell_type": "code",
   "execution_count": 12,
   "metadata": {},
   "outputs": [],
   "source": [
    "# 10번\n",
    "class User:\n",
    "    def init(self, name):\n",
    "        self.name = name\n",
    "        \n",
    "\n",
    "class Student:\n",
    "    def __init__(self, name, age):\n",
    "        super().__init__(self, name)\n",
    "        self.age = age"
   ]
  },
  {
   "cell_type": "code",
   "execution_count": 36,
   "metadata": {},
   "outputs": [
    {
     "name": "stdout",
     "output_type": "stream",
     "text": [
      "대리 게임 등 적발 현황 264차 안내부정행위 프로그램 제재 현황 안내입롤의 신 - 파이크편 감상평 이벤트 당첨자 안내6월 15일 (금) Toss 결제 서비스 점검 안내인형 30% 할인 프로모션6월 13일(수) 서버 점검 및 업데이트 안내 (완료)대리 게임 등 적발 현황 263차 안내부정행위 프로그램 제재 현황 안내6월 2차 소환사 문화재지킴이 모집 안내일부 클라이언트 오류 현상에 대한 안내 (정상화)\n"
     ]
    }
   ],
   "source": [
    "# 11번\n",
    "import requests\n",
    "from bs4 import BeautifulSoup\n",
    "\n",
    "url = 'http://www.leagueoflegends.co.kr/?m=news&cate=notice'\n",
    "\n",
    "response = requests.get(url)\n",
    "html = response.text\n",
    "soup = BeautifulSoup(html, 'lxml')\n",
    "\n",
    "tdleft= soup.select('td.tleft > a')\n",
    "#print(tdleft)\n",
    "tlist = ''\n",
    "for td in tdleft:\n",
    "    #print(td)\n",
    "    tlist += td.get_text(strip=True)\n",
    "    \n",
    "print(tlist)"
   ]
  },
  {
   "cell_type": "code",
   "execution_count": 53,
   "metadata": {},
   "outputs": [
    {
     "name": "stdout",
     "output_type": "stream",
     "text": [
      "대리 게임 등 적발 현황 264차 안내\n",
      "2018-06-15\n",
      "1,355\n",
      "부정행위 프로그램 제재 현황 안내\n",
      "2018-06-15\n",
      "713\n",
      "입롤의 신 - 파이크편 감상평 이벤트 당첨자 안내\n",
      "2018-06-14\n",
      "1,504\n",
      "6월 15일 (금) Toss 결제 서비스 점검 안내\n",
      "2018-06-14\n",
      "862\n",
      "인형 30% 할인 프로모션\n",
      "2018-06-13\n",
      "8,882\n",
      "6월 13일(수) 서버 점검 및 업데이트 안내 (완료)\n",
      "2018-06-12\n",
      "24,296\n",
      "대리 게임 등 적발 현황 263차 안내\n",
      "2018-06-08\n",
      "6,959\n",
      "부정행위 프로그램 제재 현황 안내\n",
      "2018-06-08\n",
      "2,808\n",
      "6월 2차 소환사 문화재지킴이 모집 안내\n",
      "2018-06-08\n",
      "3,606\n",
      "일부 클라이언트 오류 현상에 대한 안내 (정상화)\n",
      "2018-06-06\n",
      "10,515\n",
      "[<__main__.Notice object at 0x11232c5c0>, <__main__.Notice object at 0x11232c6d8>, <__main__.Notice object at 0x111e1b390>, <__main__.Notice object at 0x111e1b0b8>, <__main__.Notice object at 0x111e1b128>, <__main__.Notice object at 0x111e1b198>, <__main__.Notice object at 0x111e1b240>, <__main__.Notice object at 0x111e1b278>, <__main__.Notice object at 0x111e1b2e8>, <__main__.Notice object at 0x11236f5c0>]\n"
     ]
    }
   ],
   "source": [
    "# 12번\n",
    "\n",
    "import requests\n",
    "from bs4 import BeautifulSoup\n",
    "\n",
    "class Notice:\n",
    "    def __init__(self, title, date, view):\n",
    "        self.title = title\n",
    "        self.date = date\n",
    "        self.view = view\n",
    "\n",
    "\n",
    "url = 'http://www.leagueoflegends.co.kr/?m=news&cate=notice'\n",
    "\n",
    "response = requests.get(url)\n",
    "html = response.text\n",
    "soup = BeautifulSoup(html, 'lxml')\n",
    "\n",
    "notice_list = []\n",
    "tr_list = soup.select('tbody > tr')\n",
    "#print(tr_list)\n",
    "for tr in tr_list:\n",
    "    #print(tr)\n",
    "    title = tr.select_one('td:nth-of-type(1) > a').get_text(strip=True)\n",
    "    print(title)\n",
    "    date = tr.select_one('td:nth-of-type(2)').get_text(strip=True)\n",
    "    print(date)\n",
    "    view = tr.select_one('td:nth-of-type(3)').get_text(strip=True)\n",
    "    print(view)\n",
    "\n",
    "    new_notice = Notice(title, date, view)\n",
    "    notice_list.append(new_notice)\n",
    "            \n",
    "print(notice_list)"
   ]
  },
  {
   "cell_type": "code",
   "execution_count": 54,
   "metadata": {},
   "outputs": [],
   "source": [
    "# 13번\n",
    "# Browser -> requests -> server에게 ->  django application -> urlresolver -> view1 -> process -> response -> server -> browser\n",
    "# 사용자가 http://localhost:8000/abc를 입력하면 요청에 포함된 문자들을 urls.py에서 views.py로 보내 처리하게 한 뒤\n",
    "# 해당 view function에서 render(렌더링)을 통해 연결시켜준다. (렌더링되는 것은 우리가 만든 템플릿 html파일)"
   ]
  },
  {
   "cell_type": "code",
   "execution_count": null,
   "metadata": {},
   "outputs": [],
   "source": []
  }
 ],
 "metadata": {
  "kernelspec": {
   "display_name": "Python 3",
   "language": "python",
   "name": "python3"
  },
  "language_info": {
   "codemirror_mode": {
    "name": "ipython",
    "version": 3
   },
   "file_extension": ".py",
   "mimetype": "text/x-python",
   "name": "python",
   "nbconvert_exporter": "python",
   "pygments_lexer": "ipython3",
   "version": "3.6.5"
  }
 },
 "nbformat": 4,
 "nbformat_minor": 2
}
